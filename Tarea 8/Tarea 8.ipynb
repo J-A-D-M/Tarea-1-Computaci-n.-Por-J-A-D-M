{
 "cells": [
  {
   "cell_type": "markdown",
   "id": "6c7bf0fa",
   "metadata": {},
   "source": [
    "### Ejercicio 1 (1 punto):\n",
    "Considera la siguiente lista de números: `lista = [1, 2, 2, 2, 465, 465, 787, 788, 99, \"mundo\", \"hola mundo\", \"adios mundo\", \"hola mundo\"]`. A partir de la lista crea otra lista que contenga los elementos únicos e imprimela.\n",
    "\n",
    "No vale crear la lista manualmente, debes hacerlo con código.\n",
    "\n",
    "El resultado debe ser: `[1, 2, 99, 'mundo', 'hola mundo', 465, 787, 788, 'adios mundo']`"
   ]
  },
  {
   "cell_type": "code",
   "execution_count": 45,
   "id": "d2178d86",
   "metadata": {},
   "outputs": [
    {
     "name": "stdout",
     "output_type": "stream",
     "text": [
      "[1, 2, 99, 'hola mundo', 465, 787, 788, 'mundo', 'adios mundo', 'hola']\n"
     ]
    }
   ],
   "source": [
    "### Respuesta:\n",
    "\n",
    "#Primero se establece la lista base.\n",
    "lista = [1, 2, 2, 2, 465, 465, 787, 788, 99, \"mundo\", \"hola mundo\", \"adios mundo\", \"hola\"]\n",
    "\n",
    "#Se convierte al set de la lista base en una lista con el comando \"list\", y se le da un nombre (llista).\n",
    "llista = list (set (lista))\n",
    "\n",
    "#Se imprime llista.\n",
    "print (llista)"
   ]
  },
  {
   "cell_type": "markdown",
   "id": "2c9065cb",
   "metadata": {},
   "source": [
    "### Ejercicio 2 (4 puntos): Aproximación de $\\pi$\n",
    "Una de las formas más sencillas de calcular $\\pi$ es mediante la siguiente serie infinita de Leibniz:\n",
    "$$\\frac{\\pi}{4} = \\sum_{n=0}^{\\infty}\\frac{(-1)^{n}}{(2n+1)} = \\frac{1}{1} - \\frac{1}{3} + \\frac{1}{5}-\\frac{1}{7}+\\frac{1}{9}-...$$\n",
    "\n",
    "crea un programa para aproximar $\\pi$ utilizando la serie de Leibniz. Usa n = 100000, imprime el valor de tu aproximación tanto el valor de $\\frac{\\pi}{4}$ como $\\pi$.\n",
    "\n",
    "El valor de $\\pi$ se obtiene al despejar:\n",
    "$$\\pi = 4 * \\left(\\sum_{n=0}^{\\infty}\\frac{(-1)^{n}}{(2n+1)} \\right)$$\n",
    "\n",
    "La siguiente celda de codigo ofrece el valor de $\\frac{\\pi}{4}$"
   ]
  },
  {
   "cell_type": "code",
   "execution_count": 9,
   "id": "e7be7b7c",
   "metadata": {},
   "outputs": [
    {
     "name": "stdout",
     "output_type": "stream",
     "text": [
      "El valor de pi/4 es aproximadamente 0.7853981633974483\n"
     ]
    }
   ],
   "source": [
    "import numpy as np\n",
    "#El valor de pi/4\n",
    "print(\"El valor de pi/4 es aproximadamente {}\".format(np.pi/4))"
   ]
  },
  {
   "cell_type": "code",
   "execution_count": 55,
   "id": "b7303b79",
   "metadata": {},
   "outputs": [
    {
     "name": "stdout",
     "output_type": "stream",
     "text": [
      "El valor aproximado de pi/4 es 0.7854006633724301\n",
      "El valor aproximado de pi es 3.1416026534897203\n"
     ]
    }
   ],
   "source": [
    "### Respuesta\n",
    "\n",
    "#Se establece un valor nulo para su uso posterior.\n",
    "i=0\n",
    "\n",
    "for n in range (100001):\n",
    "    #Se programa la serie infinita de Leibniz en un rango de números del 0 al 100000.\n",
    "    r = (((-1)**n)/((2*n)+1))+i\n",
    "    #A \"i\" se le da el valor de \"r\" para que al momento de operarse el siguiente elemento de la serie se le sume el anterior.\n",
    "    i = r\n",
    "\n",
    "#Se imprime el valor obtenido después de las iteraciones.\n",
    "print (\"El valor aproximado de pi/4 es {}\".format(r))\n",
    "\n",
    "#Se calcula pi al multiplicar la serie por 4, y se imprime su valor aproximado.\n",
    "m = r*4\n",
    "print (\"El valor aproximado de pi es {}\".format(m))"
   ]
  },
  {
   "cell_type": "markdown",
   "id": "dbc227dc",
   "metadata": {},
   "source": [
    "### Ejercicio 3 (4 puntos): Sucesión monótona \n",
    "Una sucesión {$a_n$} es una colección de números relacionados entre sí, en la que se tiene en cuenta la posición relativa de cada número respecto al anterior. Por ejemplo, la sucesión $\\frac{1}{n} = 1, 1/2, 1/3, 1/4, ...$ es convergente a cero ya que cuando $n \\rightarrow \\infty$ el valor de $a_n$ se acerca a cero.\n",
    "\n",
    "Una sucesión podemos verla como una lista, tal que así `[1, 1/2, 1/3,1/10000]` (claramente con un valor maximo, pues en python no podemos tener infinitos elementos en una lista).\n",
    "\n",
    "Considera la sucesión $a_n = 3 - \\frac{1}{n}$, crea un programa que haga una lista con los primeros 10 mil terminos de dicha sucesion (no la imprimas).\n",
    "\n",
    "Imprime los últimos 15 elementos de la lista y discute en una celda Markdown si esta sucesión es convergente y hacía que valor converge. Investiga que condición debe cumplir para que una suceción sea monótona creciente y monótona decreciente, con ello responde si es creciente o decreciente.\t"
   ]
  },
  {
   "cell_type": "code",
   "execution_count": 54,
   "id": "4917d277",
   "metadata": {},
   "outputs": [
    {
     "name": "stdout",
     "output_type": "stream",
     "text": [
      "[2.999899859803725, 2.99989986983078, 2.999899879855827, 2.9998998898788667, 2.9998998998999, 2.999899909918927, 2.999899919935949, 2.9998999299509657, 2.9998999399639783, 2.9998999499749877, 2.9998999599839937, 2.9998999699909974, 2.999899979995999, 2.9998999899989998, 2.9999]\n"
     ]
    }
   ],
   "source": [
    "### Respuesta (últimos 15 elementos):\n",
    "\n",
    "#Se crea una lista vacía.\n",
    "mista = []\n",
    "\n",
    "for n in range (1,10001):\n",
    "    #Se programa la sucesión en un rango del 1 al 10000 (quitando el 0 para evitar indeterminaciones).\n",
    "    s = 3-(1/n)\n",
    "    #Cada que se opere la sucesión, el resultado es añadido a la lista vacía establecida en un principio.\n",
    "    mista.append(s)\n",
    "\n",
    "#Se imprimen los últimos 15 elementos de la lista.\n",
    "print (mista[-15:])"
   ]
  },
  {
   "cell_type": "markdown",
   "id": "1589fa5b",
   "metadata": {},
   "source": [
    "### Respuesta (discución interna, e investigación):\n",
    "\n",
    "Sabemos que la sucesión de $1/n$ converge a cero, así que es fácil intuir que al tender al infinito la sucesión evaluada sería igual a $3-0$ que no es nada más ni nada menos que el número 3. Por lo tanto la sucesión converge al número 3.\n",
    "\n",
    "En cuanto a si la sucesión es monótona creciente o decreciente, conviene primero recordar sus definiciones:\n",
    "\n",
    "* Monótona creciente. Sucesiones en las que cada término es menor o igual que el siguiente.\n",
    "* Monótona decreciente. Sucesiones en las que cada término es mayor o igual que el siguiente.\n",
    "\n",
    "Con ello, se puede responder que la sucesión es monótona decreciente, pues cada término es mayor que el siguiente."
   ]
  },
  {
   "cell_type": "markdown",
   "id": "3f233558",
   "metadata": {},
   "source": [
    "### Ejercicio 4 (1 punto):\n",
    "Crea un ciclo for a modo de que la salida sea la siguiente:\n",
    "\n",
    "10\n",
    "\n",
    "9\n",
    "\n",
    "8\n",
    "\n",
    "7\n",
    "\n",
    "6\n",
    "\n",
    "...\n",
    "\n",
    "2\n",
    "\n",
    "1\n",
    "\n",
    "0\n"
   ]
  },
  {
   "cell_type": "code",
   "execution_count": 56,
   "id": "223d46c3",
   "metadata": {},
   "outputs": [
    {
     "name": "stdout",
     "output_type": "stream",
     "text": [
      "10\n",
      "9\n",
      "8\n",
      "7\n",
      "6\n",
      "5\n",
      "4\n",
      "3\n",
      "2\n",
      "1\n",
      "0\n"
     ]
    }
   ],
   "source": [
    "### Respuesta:\n",
    "\n",
    "#Se establece un ciclo for del 0 al 10.\n",
    "for t in range (11):\n",
    "    #Se le da a la variable \"p\" el valor de 10-t.\n",
    "    p = 10-t\n",
    "    #Se imprime el valor de \"p\" por cada iteracción.\n",
    "    print (p)"
   ]
  },
  {
   "cell_type": "markdown",
   "id": "8bfb8657",
   "metadata": {},
   "source": [
    "### Puntos extras, este ejercicio es opcional (2 puntos):\n",
    "Crea un codigo para calcular el producto punto de dos vectores $\\vec{\\omega}$ y $\\vec{\\eta}$ de dimensión $3$. No vale usar librerias externas, debes hacerlo con ciclos for.\n",
    "\n",
    "Donde $\\vec{\\omega} = (10, 2, -3)$ y $\\vec{\\eta} = (5, -5, 1)$\n",
    "\n",
    "El producto punto de los vectores $\\vec{\\omega}$ y $\\vec{\\eta}$ se define como:\n",
    "$$<\\vec{\\omega},\\vec{\\eta}> = \\vec{\\omega} \\cdot \\vec{\\eta} = \\omega_{1}\\eta_{1} + \\omega_{2}\\eta_{2} + \\omega_{3}\\eta_{3} = 10*5 + 2*(-5) + (-3)*1=37$$"
   ]
  },
  {
   "cell_type": "code",
   "execution_count": 69,
   "id": "c80a4011",
   "metadata": {},
   "outputs": [
    {
     "name": "stdout",
     "output_type": "stream",
     "text": [
      "El producto punto es 37\n"
     ]
    }
   ],
   "source": [
    "### Respuesta:\n",
    "\n",
    "#Primero se establecen los valores de los vectores en R3 a calcular.\n",
    "ww = [10,2,-3]\n",
    "nn = [5,-5,1]\n",
    "\n",
    "#Se establece el valor de una variable\n",
    "dotproduct=0\n",
    "\n",
    "#Se hace el for con el comando zip incluido para así establecer, en duplas, los elementos de los vectores como objetos iterables\n",
    "for ww,nn in zip(ww,nn):\n",
    "    #Se hace la operación para el producto punto\n",
    "    dotproduct = dotproduct + (ww*nn)\n",
    "    \n",
    "#Se imprime el valor resultante del producto punto.\n",
    "print (\"El producto punto es\", dotproduct)"
   ]
  }
 ],
 "metadata": {
  "kernelspec": {
   "display_name": "Python 3 (ipykernel)",
   "language": "python",
   "name": "python3"
  },
  "language_info": {
   "codemirror_mode": {
    "name": "ipython",
    "version": 3
   },
   "file_extension": ".py",
   "mimetype": "text/x-python",
   "name": "python",
   "nbconvert_exporter": "python",
   "pygments_lexer": "ipython3",
   "version": "3.9.13"
  }
 },
 "nbformat": 4,
 "nbformat_minor": 5
}
